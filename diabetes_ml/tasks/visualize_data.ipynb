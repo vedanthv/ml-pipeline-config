{
 "cells": [
  {
   "cell_type": "code",
   "execution_count": null,
   "id": "exact-politics",
   "metadata": {
    "lines_to_next_cell": 2
   },
   "outputs": [],
   "source": [
    "# Add description here\n",
    "#"
   ]
  },
  {
   "cell_type": "code",
   "execution_count": null,
   "id": "heated-october",
   "metadata": {},
   "outputs": [],
   "source": [
    "# Uncomment the next two lines to enable auto reloading for imported modules\n",
    "# %load_ext autoreload\n",
    "# %autoreload 2\n",
    "# For more info, see:\n",
    "# https://docs.ploomber.io/en/latest/user-guide/faq_index.html#auto-reloading-code-in-jupyter"
   ]
  },
  {
   "cell_type": "code",
   "execution_count": null,
   "id": "invisible-store",
   "metadata": {
    "lines_to_next_cell": 2,
    "tags": [
     "parameters"
    ]
   },
   "outputs": [],
   "source": [
    "# If this task has dependencies, declare them in the YAML spec and leave this\n",
    "# as None\n",
    "upstream = None\n",
    "\n",
    "# This is a placeholder, leave it as None\n",
    "product = None"
   ]
  },
  {
   "cell_type": "code",
   "execution_count": null,
   "id": "separate-syracuse",
   "metadata": {
    "tags": [
     "injected-parameters"
    ]
   },
   "outputs": [],
   "source": [
    "# Parameters\n",
    "upstream = {\"clean\": {\"nb\": \"D:\\\\Data Science\\\\ml-pipeline-config\\\\diabetes_ml\\\\products\\\\clean_train_data.ipynb\", \"data\": \"D:\\\\Data Science\\\\ml-pipeline-config\\\\diabetes_ml\\\\products\\\\cleaned_train_data.csv\"}}\n",
    "product = {\"nb\": \"D:\\\\Data Science\\\\ml-pipeline-config\\\\diabetes_ml\\\\products\\\\visualize_data.ipynb\"}\n"
   ]
  },
  {
   "cell_type": "code",
   "execution_count": null,
   "id": "czech-nitrogen",
   "metadata": {},
   "outputs": [],
   "source": [
    "import pandas as pd\n",
    "\n",
    "from pandas_profiling import ProfileReport\n",
    "\n",
    "df = pd.read_csv(upstream['clean']['data'])\n",
    "\n",
    "\n",
    "profile = ProfileReport(df,title = \"Pandas Profiling Report\",explorative = True)\n",
    "profile.to_notebook_iframe()"
   ]
  }
 ],
 "metadata": {
  "kernelspec": {
   "display_name": "Python 3",
   "language": "python",
   "name": "python3"
  },
  "papermill": {
   "parameters": {
    "product": {
     "nb": "D:\\Data Science\\ml-pipeline-config\\diabetes_ml\\products\\visualize_data.ipynb"
    },
    "upstream": {
     "clean": {
      "data": "D:\\Data Science\\ml-pipeline-config\\diabetes_ml\\products\\cleaned_train_data.csv",
      "nb": "D:\\Data Science\\ml-pipeline-config\\diabetes_ml\\products\\clean_train_data.ipynb"
     }
    }
   }
  },
  "ploomber": {
   "injected_manually": true
  }
 },
 "nbformat": 4,
 "nbformat_minor": 5
}
