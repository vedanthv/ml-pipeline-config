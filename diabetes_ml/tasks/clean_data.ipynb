{
 "cells": [
  {
   "cell_type": "code",
   "execution_count": null,
   "id": "current-default",
   "metadata": {
    "lines_to_next_cell": 2
   },
   "outputs": [],
   "source": [
    "# Add description here\n",
    "#"
   ]
  },
  {
   "cell_type": "code",
   "execution_count": null,
   "id": "incorporated-permit",
   "metadata": {},
   "outputs": [],
   "source": [
    "# Uncomment the next two lines to enable auto reloading for imported modules\n",
    "# %load_ext autoreload\n",
    "# %autoreload 2\n",
    "# For more info, see:\n",
    "# https://docs.ploomber.io/en/latest/user-guide/faq_index.html#auto-reloading-code-in-jupyter"
   ]
  },
  {
   "cell_type": "code",
   "execution_count": null,
   "id": "advisory-storage",
   "metadata": {
    "lines_to_next_cell": 2,
    "tags": [
     "parameters"
    ]
   },
   "outputs": [],
   "source": [
    "# If this task has dependencies, declare them in the YAML spec and leave this\n",
    "# as None\n",
    "upstream = None\n",
    "\n",
    "# This is a placeholder, leave it as None\n",
    "product = None"
   ]
  },
  {
   "cell_type": "code",
   "execution_count": null,
   "id": "clinical-championship",
   "metadata": {
    "tags": [
     "injected-parameters"
    ]
   },
   "outputs": [],
   "source": [
    "# Parameters\n",
    "input_path = \"D:\\\\Data Science\\\\ml-pipeline-config\\\\diabetes_ml\\\\\\\\input_data\\\\\\\\diabetes_train.csv\"\n",
    "product = {\"nb\": \"D:\\\\Data Science\\\\ml-pipeline-config\\\\diabetes_ml\\\\products\\\\clean_train_data.ipynb\", \"data\": \"D:\\\\Data Science\\\\ml-pipeline-config\\\\diabetes_ml\\\\products\\\\cleaned_train_data.csv\"}\n"
   ]
  },
  {
   "cell_type": "code",
   "execution_count": null,
   "id": "living-nancy",
   "metadata": {},
   "outputs": [],
   "source": [
    "import pandas as pd\n",
    "import numpy as np\n",
    "df = pd.read_csv(input_path, sep = ',')\n",
    "# replace zeros in the following columns with NaN\n",
    "df[['Glucose','BloodPressure','SkinThickness','Insulin','BMI']] = df[['Glucose','BloodPressure','SkinThickness','Insulin','BMI']].replace(0,np.NaN)\n",
    "df.to_csv(product['data'], index = False)"
   ]
  }
 ],
 "metadata": {
  "kernelspec": {
   "display_name": "Python 3",
   "language": "python",
   "name": "python3"
  },
  "papermill": {
   "parameters": {
    "input_path": "D:\\Data Science\\ml-pipeline-config\\diabetes_ml\\\\input_data\\\\diabetes_train.csv",
    "product": {
     "data": "D:\\Data Science\\ml-pipeline-config\\diabetes_ml\\products\\cleaned_train_data.csv",
     "nb": "D:\\Data Science\\ml-pipeline-config\\diabetes_ml\\products\\clean_train_data.ipynb"
    }
   }
  },
  "ploomber": {
   "injected_manually": true
  }
 },
 "nbformat": 4,
 "nbformat_minor": 5
}
