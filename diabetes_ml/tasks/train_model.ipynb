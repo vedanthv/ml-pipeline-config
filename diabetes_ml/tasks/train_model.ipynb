{
 "cells": [
  {
   "cell_type": "code",
   "execution_count": null,
   "id": "harmful-gospel",
   "metadata": {
    "lines_to_next_cell": 2
   },
   "outputs": [],
   "source": [
    "# Add description here\n",
    "#"
   ]
  },
  {
   "cell_type": "code",
   "execution_count": null,
   "id": "hairy-lyric",
   "metadata": {},
   "outputs": [],
   "source": [
    "# Uncomment the next two lines to enable auto reloading for imported modules\n",
    "# %load_ext autoreload\n",
    "# %autoreload 2\n",
    "# For more info, see:\n",
    "# https://docs.ploomber.io/en/latest/user-guide/faq_index.html#auto-reloading-code-in-jupyter"
   ]
  },
  {
   "cell_type": "code",
   "execution_count": null,
   "id": "boolean-turner",
   "metadata": {
    "lines_to_next_cell": 2,
    "tags": [
     "parameters"
    ]
   },
   "outputs": [],
   "source": [
    "# If this task has dependencies, declare them in the YAML spec and leave this\n",
    "# as None\n",
    "upstream = None\n",
    "\n",
    "# This is a placeholder, leave it as None\n",
    "product = None"
   ]
  },
  {
   "cell_type": "code",
   "execution_count": null,
   "id": "cleared-turning",
   "metadata": {
    "tags": [
     "injected-parameters"
    ]
   },
   "outputs": [],
   "source": [
    "# Parameters\n",
    "mlflow_tracking_uri = \"<http://127.0.0.1:5000>\"\n",
    "experiment_name = \"diabetes-expt\"\n",
    "train_size = 0.8\n",
    "fix_imbalance = True\n",
    "numeric_imputation = \"median\"\n",
    "include_models = [\"rf\", \"lightgbm\", \"lr\"]\n",
    "upstream = {\"clean\": {\"nb\": \"D:\\\\Data Science\\\\ml-pipeline-config\\\\diabetes_ml\\\\products\\\\clean_train_data.ipynb\", \"data\": \"D:\\\\Data Science\\\\ml-pipeline-config\\\\diabetes_ml\\\\products\\\\cleaned_train_data.csv\"}}\n",
    "product = {\"nb\": \"D:\\\\Data Science\\\\ml-pipeline-config\\\\diabetes_ml\\\\products\\\\train_model.ipynb\", \"config\": \"D:\\\\Data Science\\\\ml-pipeline-config\\\\diabetes_ml\\\\products\\\\config.pkl\"}\n"
   ]
  },
  {
   "cell_type": "code",
   "execution_count": null,
   "id": "precious-antibody",
   "metadata": {},
   "outputs": [],
   "source": [
    "# your code here..."
   ]
  }
 ],
 "metadata": {
  "kernelspec": {
   "display_name": "Python 3",
   "language": "python",
   "name": "python3"
  },
  "papermill": {
   "parameters": {
    "experiment_name": "diabetes-expt",
    "fix_imbalance": true,
    "include_models": [
     "rf",
     "lightgbm",
     "lr"
    ],
    "mlflow_tracking_uri": "<http://127.0.0.1:5000>",
    "numeric_imputation": "median",
    "product": {
     "config": "D:\\Data Science\\ml-pipeline-config\\diabetes_ml\\products\\config.pkl",
     "nb": "D:\\Data Science\\ml-pipeline-config\\diabetes_ml\\products\\train_model.ipynb"
    },
    "train_size": 0.8,
    "upstream": {
     "clean": {
      "data": "D:\\Data Science\\ml-pipeline-config\\diabetes_ml\\products\\cleaned_train_data.csv",
      "nb": "D:\\Data Science\\ml-pipeline-config\\diabetes_ml\\products\\clean_train_data.ipynb"
     }
    }
   }
  },
  "ploomber": {
   "injected_manually": true
  }
 },
 "nbformat": 4,
 "nbformat_minor": 5
}
