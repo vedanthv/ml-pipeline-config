{
 "cells": [
  {
   "cell_type": "code",
   "execution_count": null,
   "id": "violent-shoot",
   "metadata": {
    "tags": [
     "parameters"
    ]
   },
   "outputs": [],
   "source": []
  },
  {
   "cell_type": "code",
   "execution_count": null,
   "id": "future-bennett",
   "metadata": {
    "tags": [
     "injected-parameters"
    ]
   },
   "outputs": [],
   "source": [
    "# Parameters\n",
    "mlflow_tracking_uri = \"http://127.0.0.1:5000\"\n",
    "experiment_name = \"diabetes-expt\"\n",
    "train_size = 0.8\n",
    "fix_imbalance = True\n",
    "fold_shuffle = True\n",
    "fold = 3\n",
    "numeric_imputation = \"median\"\n",
    "include_models = [\"rf\", \"lightgbm\", \"lr\"]\n",
    "n_select = 1\n",
    "sort = \"AUC\"\n",
    "upstream = {\"clean\": {\"nb\": \"D:\\\\Data Science\\\\ml-pipeline-config\\\\diabetes_ml\\\\products\\\\clean_train_data.ipynb\", \"data\": \"D:\\\\Data Science\\\\ml-pipeline-config\\\\diabetes_ml\\\\products\\\\cleaned_train_data.csv\"}}\n",
    "product = {\"nb\": \"D:\\\\Data Science\\\\ml-pipeline-config\\\\diabetes_ml\\\\products\\\\train_model.ipynb\", \"config\": \"D:\\\\Data Science\\\\ml-pipeline-config\\\\diabetes_ml\\\\products\\\\config.pkl\"}\n"
   ]
  },
  {
   "cell_type": "code",
   "execution_count": null,
   "id": "harmful-gospel",
   "metadata": {
    "lines_to_next_cell": 2
   },
   "outputs": [],
   "source": [
    "# Add description here\n",
    "#"
   ]
  },
  {
   "cell_type": "code",
   "execution_count": null,
   "id": "hairy-lyric",
   "metadata": {},
   "outputs": [],
   "source": [
    "# Uncomment the next two lines to enable auto reloading for imported modules\n",
    "# %load_ext autoreload\n",
    "# %autoreload 2\n",
    "# For more info, see:\n",
    "# https://docs.ploomber.io/en/latest/user-guide/faq_index.html#auto-reloading-code-in-jupyter"
   ]
  },
  {
   "cell_type": "code",
   "execution_count": 4,
   "id": "precious-antibody",
   "metadata": {},
   "outputs": [],
   "source": [
    "from pycaret.classification import *\n",
    "import pandas as pd\n",
    "import mlflow\n",
    "# set the mlflow tracking uri\n",
    "mlflow.set_tracking_uri(mlflow_tracking_uri)\n",
    "# read the cleaned data\n",
    "df = pd.read_csv(upstream['clean']['data'])\n",
    "# setup pycaret\n",
    "numeric_features = ['Pregnancies', 'Glucose', 'BloodPressure', 'SkinThickness', 'Insulin', 'BMI', 'DiabetesPedigreeFunction', 'Age']\n",
    "clf = setup(data=df,\n",
    "            target='Outcome',\n",
    "            train_size = train_size,\n",
    "            fold_shuffle = fold_shuffle,\n",
    "            fold = fold,\n",
    "            html = False,\n",
    "            silent = True,\n",
    "            numeric_features = numeric_features,\n",
    "            experiment_name = experiment_name,\n",
    "            log_experiment = True,\n",
    "            fix_imbalance = fix_imbalance,\n",
    "            numeric_imputation = numeric_imputation)\n",
    "# save setup configuration\n",
    "save_config(product['config'])\n",
    "mlflow.log_artifact(product['config'])\n",
    "\n",
    "best = compare_models(include_models)\n",
    "\n",
    "final_model = finalize_model(tune_model(best, choose_better = True, optimize = 'AUC'))"
   ]
  }
 ],
 "metadata": {
  "kernelspec": {
   "display_name": "Python 3",
   "language": "python",
   "name": "python3"
  },
  "language_info": {
   "codemirror_mode": {
    "name": "ipython",
    "version": 3
   },
   "file_extension": ".py",
   "mimetype": "text/x-python",
   "name": "python",
   "nbconvert_exporter": "python",
   "pygments_lexer": "ipython3",
   "version": "3.6.8"
  },
  "papermill": {
   "parameters": {
    "experiment_name": "diabetes-expt",
    "fix_imbalance": true,
    "fold": 3,
    "fold_shuffle": true,
    "include_models": [
     "rf",
     "lightgbm",
     "lr"
    ],
    "mlflow_tracking_uri": "http://127.0.0.1:5000",
    "n_select": 1,
    "numeric_imputation": "median",
    "product": {
     "config": "D:\\Data Science\\ml-pipeline-config\\diabetes_ml\\products\\config.pkl",
     "nb": "D:\\Data Science\\ml-pipeline-config\\diabetes_ml\\products\\train_model.ipynb"
    },
    "sort": "AUC",
    "train_size": 0.8,
    "upstream": {
     "clean": {
      "data": "D:\\Data Science\\ml-pipeline-config\\diabetes_ml\\products\\cleaned_train_data.csv",
      "nb": "D:\\Data Science\\ml-pipeline-config\\diabetes_ml\\products\\clean_train_data.ipynb"
     }
    }
   }
  },
  "ploomber": {
   "injected_manually": true
  },
  "vscode": {
   "interpreter": {
    "hash": "2e7868f89abf524edd1ec598212bc0b2ae4a8ad1dcad5d0f511350e46eda42bb"
   }
  }
 },
 "nbformat": 4,
 "nbformat_minor": 5
}
